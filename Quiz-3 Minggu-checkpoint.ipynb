{
 "cells": [
  {
   "cell_type": "markdown",
   "metadata": {
    "colab_type": "text",
    "id": "P1yV4PS_B6wd"
   },
   "source": [
    "# QUIZ-3\n",
    "Dataset-dataset berikut ini menunjukkan persentase lemak, protein, dan food yang dikonsumsi dari setiap jenis makanan yang terdaftar. Akhir dataset juga mencakup persentase obesitas dan kurang gizi, dan persentase kasus COVID-19 Terkonfirmasi/Kematian/Sembuh/Aktif (Catatan: Semua data memiliki unit% kecuali Populasi, Unit % tersebut berdasarkan jumlah populasi).\n",
    "\n",
    "Link Download:\n",
    "\n",
    "[Food_Supply_Quantity_kg_Data.csv](https://drive.google.com/uc?export=download&id=1EHSvX9TWPTQXwWLxW9xyKyM8EFoPohOW)\n",
    "\n",
    "[Protein_Supply_Quantity_Data.csv](https://drive.google.com/uc?export=download&id=1Qr4U9lQAVAI3Jcqk0n2HvVHulW_iaKAc)\n",
    "\n",
    "[Fat_Supply_Quantity_Data.csv](https://drive.google.com/uc?export=download&id=1VCzZyckdANfyqh2fJEUecXAt-uCJGxaT)\n",
    "\n",
    "[Supply_Food_Data_Descriptions.csv](https://drive.google.com/uc?export=download&id=1VwZsUhqtPTiQgGHQqjjMFXDriIu1_Gaz)"
   ]
  },
  {
   "cell_type": "code",
   "execution_count": 0,
   "metadata": {
    "colab": {},
    "colab_type": "code",
    "id": "7mh30fPxB6wi"
   },
   "outputs": [],
   "source": [
    "import pandas as pd\n",
    "\n",
    "# Import Semua Data\n",
    "df_food = pd.read_csv('Food_Supply_Quantity_kg_Data.csv')\n",
    "df_protein = pd.read_csv('Protein_Supply_Quantity_Data.csv')\n",
    "df_fat = pd.read_csv('Fat_Supply_Quantity_Data.csv')\n",
    "df_category = pd.read_csv('Supply_Food_Data_Descriptions.csv')"
   ]
  },
  {
   "cell_type": "markdown",
   "metadata": {
    "colab_type": "text",
    "id": "-pQHcLgQB6w2"
   },
   "source": [
    "<h2> 1. Python Quiz: Memisahkan antara column tentang makanan yang di supply dan bukan makanan</h2>\n",
    "\n",
    "di akhir kita mempunyai data list berisi semua column tentang supply makanan dan non supply makanan atau column tentang covid-19 beserta populasi, cara kalian mendapatkannya bebas yang penting sesuai output."
   ]
  },
  {
   "cell_type": "markdown",
   "metadata": {
    "colab_type": "text",
    "id": "dxEfwTdBB6w5"
   },
   "source": [
    "Hasil Akhir Yang di harapkan :\n",
    "\n",
    "- supply columns => columns berisi column tentang semua jenis supply makanan\n",
    "- all columns => Semua columns\n",
    "- non supply columns => column column tentang data covid-19 + obesitas + Undernourished + populasi\n",
    "\n",
    "![alt text](https://drive.google.com/uc?id=1OfUO60EJbM2ESz1BmNTQ_WGbGQ75h4eI)"
   ]
  },
  {
   "cell_type": "code",
   "execution_count": 0,
   "metadata": {
    "colab": {},
    "colab_type": "code",
    "id": "Wl_SmBiIB6w7"
   },
   "outputs": [],
   "source": [
    "# Code Here\n"
   ]
  },
  {
   "cell_type": "markdown",
   "metadata": {
    "colab_type": "text",
    "id": "D2b31tlRB6xQ"
   },
   "source": [
    "<h2>2. Pandas Quiz: Menggabungkan DataFrame </h2>\n",
    "\n",
    "Gabungkan Semua data dimana semua data nya berisi semua row dan column yang unik. berikan unique suffixes kepada nama column yang berlabel sama tapi berisi informasi yang berbeda.\n",
    "\n",
    "Tidak boleh ada column yang berisi data informasi yang sama."
   ]
  },
  {
   "cell_type": "markdown",
   "metadata": {
    "colab_type": "text",
    "id": "hgetKQiFB6xT"
   },
   "source": [
    "Hasil akhir yang di harapkan mengenai data adalah seperti berikut:\n",
    "\n",
    "Lima data pertama :\n",
    "\n",
    "![alt text](https://drive.google.com/uc?id=1pUqpDnU8V4zy58GEOF9bIWjbcXnhIICU)\n",
    "\n",
    "Dimensi data Hasil Gabung :\n",
    "(170, 78)\n",
    "\n",
    "Column Data Hasil Gabung, Perhatikan bahwa di setiap akhir nama column, nama column tersebut di tambahkan dengan suffixes berdasarkan asal data tersebut :\n",
    "\n",
    "['Country', 'Alcoholic Beverages_food', 'Animal fats_food',\n",
    "       'Animal Products_food', 'Aquatic Products, Other_food',\n",
    "       'Cereals - Excluding Beer_food', 'Eggs_food', 'Fish, Seafood_food',\n",
    "       'Fruits - Excluding Wine_food', 'Meat_food',\n",
    "       'Milk - Excluding Butter_food', 'Miscellaneous_food', 'Offals_food',\n",
    "       'Oilcrops_food', 'Pulses_food', 'Spices_food', 'Starchy Roots_food',\n",
    "       'Stimulants_food', 'Sugar & Sweeteners_food', 'Sugar Crops_food',\n",
    "       'Treenuts_food', 'Vegetable Oils_food', 'Vegetables_food',\n",
    "       'Vegetal Products_food', 'Obesity', 'Undernourished', 'Confirmed',\n",
    "       'Deaths', 'Recovered', 'Active', 'Population',\n",
    "       'Unit (all except Population)', 'Alcoholic Beverages_fat',\n",
    "       'Animal Products_fat', 'Animal fats_fat', 'Aquatic Products, Other_fat',\n",
    "       'Cereals - Excluding Beer_fat', 'Eggs_fat', 'Fish, Seafood_fat',\n",
    "       'Fruits - Excluding Wine_fat', 'Meat_fat', 'Miscellaneous_fat',\n",
    "       'Milk - Excluding Butter_fat', 'Offals_fat', 'Oilcrops_fat',\n",
    "       'Pulses_fat', 'Spices_fat', 'Starchy Roots_fat', 'Stimulants_fat',\n",
    "       'Sugar Crops_fat', 'Sugar & Sweeteners_fat', 'Treenuts_fat',\n",
    "       'Vegetal Products_fat', 'Vegetable Oils_fat', 'Vegetables_fat',\n",
    "       'Alcoholic Beverages_protein', 'Animal Products_protein',\n",
    "       'Animal fats_protein', 'Aquatic Products, Other_protein',\n",
    "       'Cereals - Excluding Beer_protein', 'Eggs_protein',\n",
    "       'Fish, Seafood_protein', 'Fruits - Excluding Wine_protein',\n",
    "       'Meat_protein', 'Milk - Excluding Butter_protein', 'Offals_protein',\n",
    "       'Oilcrops_protein', 'Pulses_protein', 'Spices_protein',\n",
    "       'Starchy Roots_protein', 'Stimulants_protein', 'Sugar Crops_protein',\n",
    "       'Sugar & Sweeteners_protein', 'Treenuts_protein',\n",
    "       'Vegetal Products_protein', 'Vegetable Oils_protein',\n",
    "       'Vegetables_protein', 'Miscellaneous_protein']"
   ]
  },
  {
   "cell_type": "code",
   "execution_count": 0,
   "metadata": {
    "colab": {},
    "colab_type": "code",
    "id": "LJ1ivIlWB6xW"
   },
   "outputs": [],
   "source": [
    "# Code Here\n"
   ]
  },
  {
   "cell_type": "markdown",
   "metadata": {
    "colab_type": "text",
    "id": "pegkuXiNB6xj"
   },
   "source": [
    "<h2>3. Pandas Quiz: Sorting and Filtering </h2>"
   ]
  },
  {
   "cell_type": "markdown",
   "metadata": {
    "colab_type": "text",
    "id": "W4gNA0ZBB6xm"
   },
   "source": [
    "Buatlah sebuah data atau gunakan data gabungan dari soal no.2, dimana data ini di sort dari yang terbesar ke yang terkecil berdasarkan column Obesitas.\n",
    "\n",
    "Kemudian Lakukan Perintah Berikut :\n",
    "\n",
    "- print data hasil sorting\n",
    "- Berapa persen jumlah obesitas di Indonesia berdasarkan populasinya? kemudian tunjukan cara mendapatkannya!\n",
    "- Urutan ke berapakah Indonesia mengenai proposi penduduk yang obesitas berdasarkan total populasinya dari yang terbesar? kemudian tunjukan cara mendapatkannya! "
   ]
  },
  {
   "cell_type": "code",
   "execution_count": 0,
   "metadata": {
    "colab": {},
    "colab_type": "code",
    "id": "tHZDS4QTB6xo"
   },
   "outputs": [],
   "source": [
    "# print Hasil Sorting\n"
   ]
  },
  {
   "cell_type": "code",
   "execution_count": 0,
   "metadata": {
    "colab": {},
    "colab_type": "code",
    "id": "Ddz7bWTkB6x9"
   },
   "outputs": [],
   "source": [
    "# code untuk mendapatkan nilai proporsi obesitas di Indonesia\n"
   ]
  },
  {
   "cell_type": "code",
   "execution_count": 0,
   "metadata": {
    "colab": {},
    "colab_type": "code",
    "id": "FHA6R7jzB6yM"
   },
   "outputs": [],
   "source": [
    "# code untuk mendapatkan urutan indoensia mengenai proposi obesitas dari terbesar\n"
   ]
  },
  {
   "cell_type": "markdown",
   "metadata": {
    "colab_type": "text",
    "id": "-67mnOAPB6ym"
   },
   "source": [
    "<h2>4. Pandas Quiz: Binning Data, Grouping, dan Aggregating </h2>"
   ]
  },
  {
   "cell_type": "markdown",
   "metadata": {
    "colab_type": "text",
    "id": "QqGWcJVGB6yp"
   },
   "source": [
    "Binning data Terkonfirmasi COVID-19 (column Confirmed) dari data food supply menjadi 5 bagian berdasarkan quartile. kalian dapat menggunakan fungsi qcut untuk melakukan bininng ini. Masukan data hasil binning tersebut menjadi column baru untuk data food supply. misalkan beri nama column tersebut dengan 'Confirmed Category'. Berikan label 'Sangat Tidak Banyak', 'Tidak Banyak', 'Sedang', 'Cukup Banyak', 'Sangat Banyak'. untuk masing-masing binning dari interval yang memiliki nilai terkecil sampai yang terbesar\n",
    "\n",
    "Baca dokumentasi berikut untuk fungsi qcut : https://pandas.pydata.org/pandas-docs/stable/reference/api/pandas.qcut.html\n",
    "\n",
    "- Buat data baru yang berupa data grouping semua data berdasarkan column Hasil Bininng atau column 'Confirmed Category'.\n",
    "- Grouping hanya column 'Obesity', 'Meat', 'Fruits - Excluding Wine', 'Fish, Seafood', 'Animal Products', 'Vegetal Products' saja.\n",
    "- Kemudian Aggregate dengan fungsi mean.\n",
    "\n",
    "Expected Output :\n",
    "\n",
    "![alt text](https://drive.google.com/uc?id=1LZIgWZqDTl2WGBjS_M1nAqNGFTTmqC0Q)"
   ]
  },
  {
   "cell_type": "code",
   "execution_count": 0,
   "metadata": {
    "colab": {},
    "colab_type": "code",
    "id": "V2EmtMsDB6yr"
   },
   "outputs": [],
   "source": [
    "# Code Here\n"
   ]
  },
  {
   "cell_type": "code",
   "execution_count": 0,
   "metadata": {
    "colab": {},
    "colab_type": "code",
    "id": "S8hIJSqdB6y7"
   },
   "outputs": [],
   "source": [
    "group_by_confirmed.to_csv('groupby_confirmed.csv')"
   ]
  },
  {
   "cell_type": "markdown",
   "metadata": {
    "colab_type": "text",
    "id": "aCVBOuCZB6zL"
   },
   "source": [
    "<h2>5. Matplotlib Visualization: Bar plot </h2>\n",
    "\n",
    "Gunakan data grouping pada soal sebelumnya untuk melakukan visualisasi. jika kalian tidak dapat menyelesaikan soal tersebut, maka silahkan download data berikut yang merupakan hasil dari data grouping.\n",
    "\n",
    "[Download](https://drive.google.com/uc?export=download&id=1ZHnO7O4yRUMiPmsX5zB_S_oB-w8lD1Yf)\n",
    "\n",
    "Normalisasi data hasil grouping tersebut dengan rumus min-max normalisasi seperti di gambar. Kemudian buatlah grouping Visualization dengan berplot, visualisasikan data column 'Obesity', 'Fruits - Excluding Wine', 'Fish, Seafood', 'Animal Products' dan 'Vegetal Products'. \n",
    "\n",
    "Expected Output yang di hasilkan seperti gambar berikut.\n",
    "\n",
    "![alt text](https://drive.google.com/uc?id=1v7aJMCeD_sUaZ0WQaQzAxCTy_EUJ7E4M)"
   ]
  },
  {
   "cell_type": "markdown",
   "metadata": {
    "colab_type": "text",
    "id": "8BDrUwc6B6zN"
   },
   "source": [
    "## Rumus Normalisasi\n",
    "\n",
    "![alt text](https://drive.google.com/uc?id=1_1ueCPAPC1ialSsfQQ9Wm_TmGP9u-kEo)"
   ]
  },
  {
   "cell_type": "markdown",
   "metadata": {
    "colab_type": "text",
    "id": "GNwgeySvB6zQ"
   },
   "source": [
    "## Expected Ouput Data Hasil Normalisasi\n",
    "\n",
    "![alt text](https://drive.google.com/uc?id=1Y7X46acxUUSSByjsL99LMurNF8018Zbv)"
   ]
  },
  {
   "cell_type": "code",
   "execution_count": 0,
   "metadata": {
    "colab": {},
    "colab_type": "code",
    "id": "3HxIw3RDB6zV"
   },
   "outputs": [],
   "source": [
    "# Code Here\n"
   ]
  },
  {
   "cell_type": "markdown",
   "metadata": {
    "colab_type": "text",
    "id": "M-Wd3_hOB6zu"
   },
   "source": [
    "<h2>6. Matplotlib Visualization: Scatter Plot </h2>"
   ]
  },
  {
   "cell_type": "markdown",
   "metadata": {
    "colab_type": "text",
    "id": "N69ef5bYB6zw"
   },
   "source": [
    "Buatlah visualisasi perbandingan scatter plot dimana kita akan membandingkan respon Jumlah Kasus Covid-19 yang terkonfirmasi berdasarkan Supply Sayuran. dimana :\n",
    "- Tandai proporsi kematian jumlah kematian (column Death) dengan ukuran dari data poin.  \n",
    "- Tandai proporsi produk hewani (column Animal Product) dengan warna, berikan colormap 'gist_yarg'.\n",
    "\n",
    "Expected Output :\n",
    "\n",
    "![alt text](https://drive.google.com/uc?id=1eAzqLAdj7Ef-pvJ4dyr0nUB-EuUldGIo)"
   ]
  },
  {
   "cell_type": "code",
   "execution_count": 0,
   "metadata": {
    "colab": {},
    "colab_type": "code",
    "id": "A6ls8EYsB6zy"
   },
   "outputs": [],
   "source": [
    "# Code Here\n"
   ]
  }
 ],
 "metadata": {
  "colab": {
   "collapsed_sections": [],
   "name": "Quiz-3 Minggu.ipynb",
   "provenance": []
  },
  "kernelspec": {
   "display_name": "Python 3",
   "language": "python",
   "name": "python3"
  },
  "language_info": {
   "codemirror_mode": {
    "name": "ipython",
    "version": 3
   },
   "file_extension": ".py",
   "mimetype": "text/x-python",
   "name": "python",
   "nbconvert_exporter": "python",
   "pygments_lexer": "ipython3",
   "version": "3.7.4"
  }
 },
 "nbformat": 4,
 "nbformat_minor": 1
}
